{
 "cells": [
  {
   "cell_type": "markdown",
   "id": "454a91af-9f4f-422b-9f94-da86d53bc288",
   "metadata": {},
   "source": [
    "# Data Science Tools and Ecosystem\n"
   ]
  },
  {
   "cell_type": "markdown",
   "id": "545d4569-c815-4478-83d2-438bd09c1377",
   "metadata": {},
   "source": [
    "In this notebook, Data Science Tools and Ecosystem are summarized."
   ]
  },
  {
   "cell_type": "markdown",
   "id": "d61f5e45-8bfb-40d6-b4a7-aaadb7860d22",
   "metadata": {},
   "source": [
    "**Objectives**\n",
    "\n",
    "\n",
    "\n"
   ]
  },
  {
   "cell_type": "markdown",
   "id": "67d135b5-2c7e-4ca6-8f1b-758a70d28c25",
   "metadata": {},
   "source": [
    " - Popular languages in Data Science\n",
    " - Common libraries in Data Science\n",
    " - Data science tools\n",
    " - Arithmetice expressions in Python"
   ]
  },
  {
   "cell_type": "markdown",
   "id": "fd9d3501-2368-4107-b44d-1129e2d11e14",
   "metadata": {},
   "source": [
    "Some of the popular languages that Data Scientist use are\n",
    ":"
   ]
  },
  {
   "cell_type": "markdown",
   "id": "85ce79be-fccb-460f-b184-3595b6ecbcff",
   "metadata": {},
   "source": [
    "1. Python\n",
    "2. R\n",
    "3. SQL"
   ]
  },
  {
   "cell_type": "markdown",
   "id": "5bc5b761-2e7a-4a37-9070-eaf37fb73b0a",
   "metadata": {},
   "source": [
    "Some of the commonly used libraries used by Data Scientist include:"
   ]
  },
  {
   "cell_type": "markdown",
   "id": "34bbed8a-0818-41ca-ab6d-2465bfdd7009",
   "metadata": {},
   "source": [
    "1. Numpy\n",
    "2. pandas\n",
    "3. MatPlotlib"
   ]
  },
  {
   "cell_type": "markdown",
   "id": "1efefb24-2da7-47a1-84e4-92cbb7cb6cea",
   "metadata": {},
   "source": [
    "| Data Science Tools|\n",
    "|------|\n",
    "|Jupiter Notebook|\n",
    "|Visual Studio Code|\n",
    "|Git|"
   ]
  },
  {
   "cell_type": "markdown",
   "id": "a8f876bb-cf64-4a96-a936-01a8f139a0bc",
   "metadata": {},
   "source": [
    "### Below are a few examples of evaluating arithmetic expressions in Python"
   ]
  },
  {
   "cell_type": "code",
   "execution_count": 3,
   "id": "4a9982b3-1deb-4317-814d-47ca5281a5b9",
   "metadata": {},
   "outputs": [
    {
     "data": {
      "text/plain": [
       "17"
      ]
     },
     "execution_count": 3,
     "metadata": {},
     "output_type": "execute_result"
    }
   ],
   "source": [
    "#This is simple arithmetic expression to multiply the add integers\n",
    "(3*4)+5"
   ]
  },
  {
   "cell_type": "code",
   "execution_count": 4,
   "id": "81d88347-945a-457a-b720-3cae557db336",
   "metadata": {},
   "outputs": [
    {
     "name": "stdout",
     "output_type": "stream",
     "text": [
      "3.3333333333333335\n"
     ]
    }
   ],
   "source": [
    "#This will convert 200 minutes to hours by diving by 60\n",
    "x = 200\n",
    "hours = 200/60\n",
    "print(hours)"
   ]
  },
  {
   "cell_type": "markdown",
   "id": "6b1dc0f0-e0a4-4904-9950-c0e46e40e511",
   "metadata": {},
   "source": [
    "## Author\n",
    "\n",
    "Winslow Goins"
   ]
  },
  {
   "cell_type": "code",
   "execution_count": null,
   "id": "8bb15bc2-2d07-446f-8b46-e5e0fa9f5185",
   "metadata": {},
   "outputs": [],
   "source": []
  }
 ],
 "metadata": {
  "kernelspec": {
   "display_name": "Python 3 (ipykernel)",
   "language": "python",
   "name": "python3"
  },
  "language_info": {
   "codemirror_mode": {
    "name": "ipython",
    "version": 3
   },
   "file_extension": ".py",
   "mimetype": "text/x-python",
   "name": "python",
   "nbconvert_exporter": "python",
   "pygments_lexer": "ipython3",
   "version": "3.13.5"
  }
 },
 "nbformat": 4,
 "nbformat_minor": 5
}
